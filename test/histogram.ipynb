{
 "cells": [
  {
   "cell_type": "code",
   "execution_count": 9,
   "metadata": {},
   "outputs": [],
   "source": [
    "import pickle\n",
    "import os\n",
    "import math\n",
    "\n",
    "filenames = ['chance0.9', 'chance0.9_2', 'chance0.9_3',\n",
    "             'chance0.8_run1', 'chance0.8_run2', 'chance0.8_run3',\n",
    "             'chance0.7_run1', 'chance0.7_run2', 'chance0.7_run3',\n",
    "             '0.6 first run', '0.6 second run', '0.6 third run',\n",
    "             'chance0.5_run1', 'chance0.5_run2', 'chance0.5_run3']\n",
    "\n",
    "chances = [0.9, 0.8, 0.7, 0.6, 0.5]\n",
    "hist_data = dict()\n",
    "\n",
    "for i, filename in enumerate(filenames):\n",
    "    with open(os.path.join(os.getcwd(), f'runs\\\\{filename}.pkl'), 'rb') as file:\n",
    "        chance = chances[math.floor(i / 3)]\n",
    "        if not chance in hist_data:\n",
    "            hist_data[chance] = []\n",
    "        hist_data[chance].append(pickle.load(file))"
   ]
  },
  {
   "cell_type": "code",
   "execution_count": 11,
   "metadata": {},
   "outputs": [
    {
     "ename": "KeyError",
     "evalue": "0.5",
     "output_type": "error",
     "traceback": [
      "\u001b[1;31m---------------------------------------------------------------------------\u001b[0m",
      "\u001b[1;31mKeyError\u001b[0m                                  Traceback (most recent call last)",
      "Cell \u001b[1;32mIn[11], line 4\u001b[0m\n\u001b[0;32m      1\u001b[0m \u001b[38;5;28;01mimport\u001b[39;00m \u001b[38;5;21;01mmatplotlib\u001b[39;00m\u001b[38;5;21;01m.\u001b[39;00m\u001b[38;5;21;01mpyplot\u001b[39;00m \u001b[38;5;28;01mas\u001b[39;00m \u001b[38;5;21;01mplt\u001b[39;00m\n\u001b[0;32m      2\u001b[0m \u001b[38;5;28;01mimport\u001b[39;00m \u001b[38;5;21;01mnumpy\u001b[39;00m \u001b[38;5;28;01mas\u001b[39;00m \u001b[38;5;21;01mnp\u001b[39;00m\n\u001b[1;32m----> 4\u001b[0m hist_counts_np \u001b[38;5;241m=\u001b[39m np\u001b[38;5;241m.\u001b[39marray(\u001b[43mhist_data\u001b[49m\u001b[43m[\u001b[49m\u001b[38;5;241;43m0.5\u001b[39;49m\u001b[43m]\u001b[49m[\u001b[38;5;241m0\u001b[39m])\n\u001b[0;32m      5\u001b[0m fig, ax \u001b[38;5;241m=\u001b[39m plt\u001b[38;5;241m.\u001b[39msubplots()\n\u001b[0;32m      6\u001b[0m x \u001b[38;5;241m=\u001b[39m \u001b[38;5;28mrange\u001b[39m(\u001b[38;5;28mlen\u001b[39m(hist_counts_np))\n",
      "\u001b[1;31mKeyError\u001b[0m: 0.5"
     ]
    }
   ],
   "source": [
    "import matplotlib.pyplot as plt\n",
    "import numpy as np\n",
    "\n",
    "hist_counts_np = np.array(hist_data[0.5][0])\n",
    "fig, ax = plt.subplots()\n",
    "x = range(len(hist_counts_np))\n",
    "y = hist_counts_np[:, 2]\n",
    "\n",
    "ax.plot(x,y)\n",
    "plt.show()"
   ]
  }
 ],
 "metadata": {
  "kernelspec": {
   "display_name": "projectcs",
   "language": "python",
   "name": "python3"
  },
  "language_info": {
   "codemirror_mode": {
    "name": "ipython",
    "version": 3
   },
   "file_extension": ".py",
   "mimetype": "text/x-python",
   "name": "python",
   "nbconvert_exporter": "python",
   "pygments_lexer": "ipython3",
   "version": "3.8.18"
  }
 },
 "nbformat": 4,
 "nbformat_minor": 2
}
